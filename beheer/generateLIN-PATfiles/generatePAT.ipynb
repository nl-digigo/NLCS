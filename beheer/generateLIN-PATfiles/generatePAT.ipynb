{
 "cells": [
  {
   "cell_type": "markdown",
   "id": "703c9811",
   "metadata": {},
   "source": [
    "### Generate .pat files for NLCS Arceringen"
   ]
  },
  {
   "cell_type": "code",
   "execution_count": null,
   "id": "d00e46b3",
   "metadata": {},
   "outputs": [],
   "source": [
    "%pip install -r requirements.txt"
   ]
  },
  {
   "cell_type": "code",
   "execution_count": null,
   "id": "6efaf516",
   "metadata": {},
   "outputs": [],
   "source": [
    "import processing\n",
    "\n",
    "# Input\n",
    "sparqlEndpoint = \"https://hub.laces.tech/digitalbuildingdata/nlcs/acceptance/nlcs-acceptatie/versions/rv5_1_4/sparql\"  # mandatory input as string, versioned SPARQL endpoint\n",
    "accessTokenUsername = \"\"  # mandatory input as string (unless an environment variable is stored as 'LDP_USERNAME')\n",
    "accessTokenPassword = \"\"  # mandatory input as string (unless an environment variable is stored as 'LDP_PASSWORD')\n",
    "\n",
    "config = {}\n",
    "config[\"url\"] = sparqlEndpoint\n",
    "config[\"username\"] = accessTokenUsername\n",
    "config[\"password\"] = accessTokenPassword\n",
    "config[\"query\"] = r\"resources/retrieveArceringInfo.rq\" \n",
    "df_arceringen, str_arceringen = processing.generate_pat(config)"
   ]
  }
 ],
 "metadata": {
  "kernelspec": {
   "display_name": "venvLIN (3.9.10)",
   "language": "python",
   "name": "python3"
  },
  "language_info": {
   "codemirror_mode": {
    "name": "ipython",
    "version": 3
   },
   "file_extension": ".py",
   "mimetype": "text/x-python",
   "name": "python",
   "nbconvert_exporter": "python",
   "pygments_lexer": "ipython3",
   "version": "3.9.10"
  }
 },
 "nbformat": 4,
 "nbformat_minor": 5
}
